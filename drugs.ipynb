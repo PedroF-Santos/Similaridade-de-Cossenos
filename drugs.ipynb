{
 "cells": [
  {
   "cell_type": "code",
   "execution_count": 2,
   "id": "e028bbd7",
   "metadata": {},
   "outputs": [
    {
     "name": "stdout",
     "output_type": "stream",
     "text": [
      "Requirement already satisfied: nltk in d:\\python\\python310\\lib\\site-packages (3.9.1)\n",
      "Requirement already satisfied: scikit-learn in d:\\python\\python310\\lib\\site-packages (1.6.1)\n",
      "Requirement already satisfied: tqdm in d:\\python\\python310\\lib\\site-packages (from nltk) (4.67.1)\n",
      "Requirement already satisfied: joblib in d:\\python\\python310\\lib\\site-packages (from nltk) (1.5.0)\n",
      "Requirement already satisfied: click in d:\\python\\python310\\lib\\site-packages (from nltk) (8.2.0)\n",
      "Requirement already satisfied: regex>=2021.8.3 in d:\\python\\python310\\lib\\site-packages (from nltk) (2024.11.6)\n",
      "Requirement already satisfied: numpy>=1.19.5 in d:\\python\\python310\\lib\\site-packages (from scikit-learn) (2.2.5)\n",
      "Requirement already satisfied: scipy>=1.6.0 in d:\\python\\python310\\lib\\site-packages (from scikit-learn) (1.15.3)\n",
      "Requirement already satisfied: threadpoolctl>=3.1.0 in d:\\python\\python310\\lib\\site-packages (from scikit-learn) (3.6.0)\n",
      "Requirement already satisfied: colorama in c:\\users\\freit\\appdata\\roaming\\python\\python310\\site-packages (from click->nltk) (0.4.6)\n",
      "Note: you may need to restart the kernel to use updated packages.\n"
     ]
    },
    {
     "name": "stderr",
     "output_type": "stream",
     "text": [
      "WARNING: You are using pip version 22.0.4; however, version 25.1.1 is available.\n",
      "You should consider upgrading via the 'd:\\python\\Python310\\python.exe -m pip install --upgrade pip' command.\n"
     ]
    }
   ],
   "source": [
    "%pip install nltk scikit-learn"
   ]
  },
  {
   "cell_type": "code",
   "execution_count": 50,
   "id": "2896e37c",
   "metadata": {},
   "outputs": [],
   "source": [
    "import pandas as pd\n",
    "import numpy as np\n",
    "from sklearn.feature_extraction.text import TfidfVectorizer\n",
    "from sklearn.metrics.pairwise import cosine_similarity\n",
    "from nltk.corpus import stopwords\n",
    "from nltk.tokenize import word_tokenize\n",
    "import string\n",
    "import nltk"
   ]
  },
  {
   "cell_type": "code",
   "execution_count": 51,
   "id": "0e0270ac",
   "metadata": {},
   "outputs": [
    {
     "name": "stderr",
     "output_type": "stream",
     "text": [
      "[nltk_data] Downloading package punkt_tab to\n",
      "[nltk_data]     C:\\Users\\freit\\AppData\\Roaming\\nltk_data...\n",
      "[nltk_data]   Package punkt_tab is already up-to-date!\n",
      "[nltk_data] Downloading package stopwords to\n",
      "[nltk_data]     C:\\Users\\freit\\AppData\\Roaming\\nltk_data...\n",
      "[nltk_data]   Package stopwords is already up-to-date!\n"
     ]
    },
    {
     "data": {
      "text/plain": [
       "True"
      ]
     },
     "execution_count": 51,
     "metadata": {},
     "output_type": "execute_result"
    }
   ],
   "source": [
    "nltk.download(\"punkt_tab\")\n",
    "nltk.download(\"stopwords\")"
   ]
  },
  {
   "cell_type": "code",
   "execution_count": null,
   "id": "c03fe5bb",
   "metadata": {},
   "outputs": [],
   "source": [
    "def tratando_dados(texto):\n",
    "    texto = str(texto).lower() \n",
    "    texto.translate(str.maketrans(\"\", \"\", string.punctuation))\n",
    "    tokens = word_tokenize(texto)\n",
    "    stop_words = set(stopwords.words(\"english\"))\n",
    "    tokens = [palavra for palavra in tokens if palavra not in stop_words]\n",
    "    tratamento_dados = \" \".join(tokens)\n",
    "\n",
    "    return tratamento_dados\n",
    "\n"
   ]
  },
  {
   "cell_type": "code",
   "execution_count": 53,
   "id": "fa3d09f4",
   "metadata": {},
   "outputs": [],
   "source": [
    "df_remedios = pd.read_csv(\"drugs.csv\")"
   ]
  },
  {
   "cell_type": "code",
   "execution_count": 54,
   "id": "2bd2f7a7",
   "metadata": {},
   "outputs": [
    {
     "data": {
      "text/html": [
       "<div>\n",
       "<style scoped>\n",
       "    .dataframe tbody tr th:only-of-type {\n",
       "        vertical-align: middle;\n",
       "    }\n",
       "\n",
       "    .dataframe tbody tr th {\n",
       "        vertical-align: top;\n",
       "    }\n",
       "\n",
       "    .dataframe thead th {\n",
       "        text-align: right;\n",
       "    }\n",
       "</style>\n",
       "<table border=\"1\" class=\"dataframe\">\n",
       "  <thead>\n",
       "    <tr style=\"text-align: right;\">\n",
       "      <th></th>\n",
       "      <th>drugName</th>\n",
       "      <th>url</th>\n",
       "      <th>description</th>\n",
       "    </tr>\n",
       "  </thead>\n",
       "  <tbody>\n",
       "    <tr>\n",
       "      <th>0</th>\n",
       "      <td>Abilify</td>\n",
       "      <td>https://www.drugs.com/abilify.html</td>\n",
       "      <td>abilify (aripiprazole is an antipsychotic medi...</td>\n",
       "    </tr>\n",
       "    <tr>\n",
       "      <th>1</th>\n",
       "      <td>Accupril</td>\n",
       "      <td>https://www.drugs.com/accupril.html</td>\n",
       "      <td>accupril (quinapril) is an ace inhibitor. ace ...</td>\n",
       "    </tr>\n",
       "    <tr>\n",
       "      <th>2</th>\n",
       "      <td>Acetaminophen</td>\n",
       "      <td>https://www.drugs.com/acetaminophen.html</td>\n",
       "      <td>acetaminophen is a pain reliever and a fever r...</td>\n",
       "    </tr>\n",
       "    <tr>\n",
       "      <th>3</th>\n",
       "      <td>Aciphex</td>\n",
       "      <td>https://www.drugs.com/aciphex.html</td>\n",
       "      <td>aciphex (rabeprazole) is a proton pump inhibit...</td>\n",
       "    </tr>\n",
       "    <tr>\n",
       "      <th>4</th>\n",
       "      <td>Acyclovir</td>\n",
       "      <td>https://www.drugs.com/acyclovir.html</td>\n",
       "      <td>acyclovir is an antiviral drug. it slows the g...</td>\n",
       "    </tr>\n",
       "  </tbody>\n",
       "</table>\n",
       "</div>"
      ],
      "text/plain": [
       "        drugName                                       url  \\\n",
       "0        Abilify        https://www.drugs.com/abilify.html   \n",
       "1       Accupril       https://www.drugs.com/accupril.html   \n",
       "2  Acetaminophen  https://www.drugs.com/acetaminophen.html   \n",
       "3        Aciphex        https://www.drugs.com/aciphex.html   \n",
       "4      Acyclovir      https://www.drugs.com/acyclovir.html   \n",
       "\n",
       "                                         description  \n",
       "0  abilify (aripiprazole is an antipsychotic medi...  \n",
       "1  accupril (quinapril) is an ace inhibitor. ace ...  \n",
       "2  acetaminophen is a pain reliever and a fever r...  \n",
       "3  aciphex (rabeprazole) is a proton pump inhibit...  \n",
       "4  acyclovir is an antiviral drug. it slows the g...  "
      ]
     },
     "execution_count": 54,
     "metadata": {},
     "output_type": "execute_result"
    }
   ],
   "source": [
    "df_remedios.head()"
   ]
  },
  {
   "cell_type": "code",
   "execution_count": null,
   "id": "79a8e2a8",
   "metadata": {},
   "outputs": [],
   "source": [
    "df_remedios[\"descrição\"] = df_remedios[\"description\"].apply(tratando_dados)"
   ]
  },
  {
   "cell_type": "code",
   "execution_count": null,
   "id": "cebda906",
   "metadata": {},
   "outputs": [],
   "source": [
    "def recomenda_remedio(recomenda, df_remedios):\n",
    "    remedios_tratados = tratando_dados(recomenda)\n",
    "    tfidf = TfidfVectorizer()\n",
    "    descricoes = df_remedios[\"descrição\"].tolist() + [remedios_tratados]\n",
    "    tfidf_matriz = tfidf.fit_transform(descricoes)\n",
    "    sim_cosseno = cosine_similarity(tfidf_matriz[-1], tfidf_matriz[:-1])\n",
    "    remedio_recomendado = np.argmax(sim_cosseno)\n",
    "\n",
    "    return df_remedios[\"drugName\"].iloc[remedio_recomendado]\n"
   ]
  },
  {
   "cell_type": "code",
   "execution_count": 59,
   "id": "ff5898d1",
   "metadata": {},
   "outputs": [
    {
     "name": "stdout",
     "output_type": "stream",
     "text": [
      "O remédio recomendado é: Paxil\n"
     ]
    }
   ],
   "source": [
    "consulta = input(\"Digite os seus sintomas em inglês:\")\n",
    "recomendado = recomenda_remedio(consulta, df_remedios)\n",
    "print(\"O remédio recomendado é:\", recomendado)"
   ]
  }
 ],
 "metadata": {
  "kernelspec": {
   "display_name": "venv",
   "language": "python",
   "name": "python3"
  },
  "language_info": {
   "codemirror_mode": {
    "name": "ipython",
    "version": 3
   },
   "file_extension": ".py",
   "mimetype": "text/x-python",
   "name": "python",
   "nbconvert_exporter": "python",
   "pygments_lexer": "ipython3",
   "version": "3.12.10"
  }
 },
 "nbformat": 4,
 "nbformat_minor": 5
}
